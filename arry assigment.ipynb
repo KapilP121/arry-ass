{
 "cells": [
  {
   "cell_type": "code",
   "execution_count": 8,
   "id": "c256b246-8737-4529-8281-57edf3e93f59",
   "metadata": {},
   "outputs": [],
   "source": [
    "'''1. Given an array, check if it contains any duplicates or not.\n",
    "arr = [1, 2, 4, 2, 5, 9]\n",
    " Output = True'''"
   ]
  },
  {
   "cell_type": "code",
   "execution_count": 15,
   "id": "a78755a6-0676-462e-9432-df69f313636d",
   "metadata": {},
   "outputs": [
    {
     "name": "stdout",
     "output_type": "stream",
     "text": [
      "[2] "
     ]
    }
   ],
   "source": [
    "# Python3 implementation of the\n",
    "# above approach\n",
    "\n",
    "# Function to find the Duplicates,\n",
    "# if duplicate occurs 2 times or\n",
    "# more than 2 times in array so,\n",
    "# it will print duplicate value \n",
    "# only once at output\n",
    "def findDuplicates(arr, Len):\n",
    "\t\n",
    "\t# Initialize ifPresent as false\n",
    "\tifPresent = False\n",
    "\n",
    "\t# ArrayList to store the output\n",
    "\ta1 = []\n",
    "\tfor i in range(Len - 1):\n",
    "\t\tfor j in range(i + 1, Len):\n",
    "\n",
    "\t\t\t# Checking if element is\n",
    "\t\t\t# present in the ArrayList\n",
    "\t\t\t# or not if present then break\n",
    "\t\t\tif (arr[i] == arr[j]):\n",
    "\t\t\t\tif arr[i] in a1:\n",
    "\t\t\t\t\tbreak\n",
    "\t\t\t\t\n",
    "\t\t\t\t# If element is not present in the\n",
    "\t\t\t\t# ArrayList then add it to ArrayList\n",
    "\t\t\t\t# and make ifPresent at true\n",
    "\t\t\t\telse:\n",
    "\t\t\t\t\ta1.append(arr[i])\n",
    "\t\t\t\t\tifPresent= True\n",
    "\n",
    "\t# If duplicates is present\n",
    "\t# then print ArrayList\n",
    "\tif (ifPresent):\n",
    "\t\tprint(a1, end = \" \")\n",
    "\telse:\n",
    "\t\tprint(\"No duplicates present in arrays\")\n",
    "\n",
    "# Driver Code\n",
    "arr = [1, 2, 4, 2, 5, 9]\n",
    "n = len(arr)\n",
    "\n",
    "findDuplicates(arr, n)\n",
    "\n",
    "# This code is contributed by rag2127\n"
   ]
  },
  {
   "cell_type": "code",
   "execution_count": null,
   "id": "403b34cc-98f9-4110-acb6-41023fd8252f",
   "metadata": {},
   "outputs": [],
   "source": [
    "'''2. Given an array and an integer k, rotate the array to the right by k steps.\n",
    "arr = [1, 2, 3, 4, 5, 6, 7] k = 3\n",
    "Output = [5, 6, 7, 1, 2, 3, 4]''"
   ]
  },
  {
   "cell_type": "code",
   "execution_count": 2,
   "id": "7d28e96f-9fb8-41b9-9fe1-07fece940f91",
   "metadata": {},
   "outputs": [
    {
     "name": "stdout",
     "output_type": "stream",
     "text": [
      "5 6 7 1 2 3 4 \n",
      "\n"
     ]
    }
   ],
   "source": [
    "# Python3 implementation of right rotation \n",
    "# of an array K number of times\n",
    "\n",
    "# Function to rightRotate array\n",
    "def RightRotate(a, n, k):\n",
    "\n",
    "\t# If rotation is greater \n",
    "\t# than size of array\n",
    "\tk = k % n;\n",
    "\n",
    "\tfor i in range(0, n):\n",
    "\n",
    "\t\tif(i < k):\n",
    "\n",
    "\t\t\t# Printing rightmost \n",
    "\t\t\t# kth elements\n",
    "\t\t\tprint(a[n + i - k], end = \" \");\n",
    "\n",
    "\t\telse:\n",
    "\n",
    "\t\t\t# Prints array after\n",
    "\t\t\t# 'k' elements\n",
    "\t\t\tprint(a[i - k], end = \" \");\n",
    "\n",
    "\tprint(\"\\n\");\n",
    "\n",
    "# Driver code\n",
    "Array = [ 1, 2, 3, 4, 5 ,6,7];\n",
    "N = len(Array);\n",
    "K = 3;\n",
    "\t\n",
    "RightRotate(Array, N, K);\n",
    "\n",
    "# This code is contributed by Code_Mech\n"
   ]
  },
  {
   "cell_type": "code",
   "execution_count": null,
   "id": "07af0c3f-5c72-42b1-abe7-878116f9886d",
   "metadata": {},
   "outputs": [],
   "source": [
    "'''3. Reverse the given array in-place, means without using any extra data structure.\n",
    "arr = [2, 4, 5, 7, 9, 12]\n",
    "Output = [12, 9, 7, 5, 4, 2]'''"
   ]
  },
  {
   "cell_type": "code",
   "execution_count": 5,
   "id": "9b510917-fa80-4c57-b163-cd7916e02649",
   "metadata": {},
   "outputs": [
    {
     "name": "stdout",
     "output_type": "stream",
     "text": [
      "[2, 4, 5, 7, 9, 12]\n",
      "Reversed list is\n",
      "[12, 9, 7, 5, 4, 2]\n"
     ]
    }
   ],
   "source": [
    "# Iterative python program to reverse an array \n",
    "\n",
    "# Function to reverse A[] from start to end \n",
    "def reverseList(A, start, end): \n",
    "\twhile start < end: \n",
    "\t\tA[start], A[end] = A[end], A[start] \n",
    "\t\tstart += 1\n",
    "\t\tend -= 1\n",
    "\n",
    "# Driver function to test above function \n",
    "A = [2, 4, 5, 7, 9, 12] \n",
    "print(A) \n",
    "reverseList(A, 0, 5) \n",
    "print(\"Reversed list is\") \n",
    "print(A) \n",
    "# This program is contributed by Pratik Chhajer \n"
   ]
  },
  {
   "cell_type": "code",
   "execution_count": null,
   "id": "ec2622cc-670e-428f-b203-6e03194a3485",
   "metadata": {},
   "outputs": [],
   "source": [
    "'''4. Given an array of integers, find the maximum element in an array\n",
    "arr = [10, 5, 20, 8, 15]\n",
    "Output = 20'''"
   ]
  },
  {
   "cell_type": "code",
   "execution_count": 6,
   "id": "00cf86c7-b371-4365-9ed5-4b13b84d709d",
   "metadata": {},
   "outputs": [
    {
     "name": "stdout",
     "output_type": "stream",
     "text": [
      "The maximum element is 20\n"
     ]
    }
   ],
   "source": [
    "# Python3 program to find \n",
    "# maximum element\n",
    "\n",
    "def findMaximum(arr, low, high):\n",
    "\tmax = arr[low]\n",
    "\ti = low\n",
    "\tfor i in range(high+1):\n",
    "\t\tif arr[i] > max:\n",
    "\t\t\tmax = arr[i]\n",
    "\treturn max\n",
    "\n",
    "# Driver program to check above functions */\n",
    "arr = [10, 5, 20, 8, 15]\n",
    "n = len(arr)\n",
    "print (\"The maximum element is %d\"%\n",
    "\t\tfindMaximum(arr, 0, n-1))\n",
    "\n",
    "# This code is contributed by Shreyanshi Arun.\n"
   ]
  },
  {
   "cell_type": "code",
   "execution_count": null,
   "id": "28bd5f7f-0743-40a2-9e2f-10f77570f3a7",
   "metadata": {},
   "outputs": [],
   "source": [
    "'''5. Given a sorted array, remove the duplicate element without using any extra data structure.\n",
    "arr = [1, 1, 2, 2, 2, 3, 3, 4, 4, 4, 5, 5]\n",
    "Output = [1, 2, 3, 4, 5]'''"
   ]
  },
  {
   "cell_type": "code",
   "execution_count": 7,
   "id": "ebb7a2ef-c777-4917-b4c4-f01d81ae8b8f",
   "metadata": {},
   "outputs": [
    {
     "name": "stdout",
     "output_type": "stream",
     "text": [
      "[1, 2, 3, 4, 5]\n"
     ]
    }
   ],
   "source": [
    "# Python3 program to remove duplicates\n",
    "def removeDulipcates(arr):\n",
    "\n",
    "\t# convert the arr into set and then into list\n",
    "\treturn list(set(arr))\n",
    "\n",
    "\n",
    "# Driver Code\n",
    "arr = [1, 1, 2, 2, 2, 3, 3, 4, 4, 4, 5, 5]\n",
    "# Function call\n",
    "print(removeDulipcates(arr))\n",
    "\n",
    "# This code is contributed\n",
    "# by Mohit Kumar\n"
   ]
  },
  {
   "cell_type": "code",
   "execution_count": null,
   "id": "95f671d3-8864-4705-82a8-658adfcbfd8f",
   "metadata": {},
   "outputs": [],
   "source": []
  },
  {
   "cell_type": "code",
   "execution_count": null,
   "id": "e69cfe3c-bf0c-4e03-94a5-fc836f050647",
   "metadata": {},
   "outputs": [],
   "source": []
  }
 ],
 "metadata": {
  "kernelspec": {
   "display_name": "Python 3 (ipykernel)",
   "language": "python",
   "name": "python3"
  },
  "language_info": {
   "codemirror_mode": {
    "name": "ipython",
    "version": 3
   },
   "file_extension": ".py",
   "mimetype": "text/x-python",
   "name": "python",
   "nbconvert_exporter": "python",
   "pygments_lexer": "ipython3",
   "version": "3.10.8"
  }
 },
 "nbformat": 4,
 "nbformat_minor": 5
}
